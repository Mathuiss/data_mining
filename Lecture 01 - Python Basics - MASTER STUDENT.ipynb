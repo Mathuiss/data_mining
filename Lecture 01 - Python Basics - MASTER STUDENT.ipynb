{
 "cells": [
  {
   "cell_type": "markdown",
   "metadata": {},
   "source": [
    "# Anaconda & Python [version 0.93] 200413 1330\n",
    "\n",
    "### Datamining and Statistics 1920, College 1, [2 EC, 56 SBU , Product]\n",
    "### Micha van der Meer - Haarlem, the Netherlands"
   ]
  },
  {
   "cell_type": "markdown",
   "metadata": {},
   "source": [
    "---"
   ]
  },
  {
   "cell_type": "markdown",
   "metadata": {},
   "source": [
    "## Notebook shortcuts \n",
    "\n",
    "## EDIT MODE <font color=green>[GREEN]</green> ##\n",
    "All necessary commands have corresponding button at the top of the screen. As you become more familiar with using Jupyter Notebook, you'll become more efficient by using hotkeys instead. A list of some useful ones:\n",
    "\n",
    "- `ctrl  + enter` : run cell\n",
    "- `shift + enter` : run cell and create/select the one after\n",
    "- `esc`           : enter command mode \n",
    "- `ctrl  + s`     : save notebook \n",
    "- `first letter from function  + tab` : autocomplete / code intelligence     \n",
    "\n",
    "## COMMAND MODE <font color=blue> [BLUE] </font>##\n",
    "While in command mode, the shortcuts work a bit differently: \n",
    "\n",
    "- `↑`/`↓` : browser through different cells \n",
    "- `y`     : changes cell to a code cell \n",
    "- `m`     : changes cell to a `markdown` cell\n",
    "- `a`     : create new cell above \n",
    "- `b`     : create new cell below \n",
    "- `l`     : toggle line numbers \n",
    "- `dd`    : delete cell \n",
    "\n",
    "You can always access the docs/help by added the `?` in front of any function in python. You can escape this helper view by pressing `q`."
   ]
  },
  {
   "cell_type": "code",
   "execution_count": null,
   "metadata": {},
   "outputs": [],
   "source": []
  }
 ],
 "metadata": {
  "kernelspec": {
   "display_name": "Python 3",
   "language": "python",
   "name": "python3"
  },
  "language_info": {
   "codemirror_mode": {
    "name": "ipython",
    "version": 3
   },
   "file_extension": ".py",
   "mimetype": "text/x-python",
   "name": "python",
   "nbconvert_exporter": "python",
   "pygments_lexer": "ipython3",
   "version": "3.7.7"
  }
 },
 "nbformat": 4,
 "nbformat_minor": 4
}
