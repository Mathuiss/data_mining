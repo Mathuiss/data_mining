{
 "cells": [
  {
   "cell_type": "code",
   "execution_count": 2,
   "metadata": {},
   "outputs": [],
   "source": [
    "import pandas as pd\n",
    "# We import pandas because we have a very large data set. It's a csv file with all data for all columns present (al large table). Pandas is ideal for this scenario.\n",
    "\n",
    "import numpy as np\n",
    "# We import numpy because we might want to use the built in functions to see the correlation of multiple columns in the data frame.\n",
    "\n",
    "import statsmodels.api as sm\n",
    "# We use that statsmodels library to validate the np and sklearn libraries\n",
    "\n",
    "import matplotlib.pyplot as plt\n",
    "# We might not need this because pandas has its own .plot() function, but just in case we want to plot something specific.\n",
    "\n",
    "from sklearn.linear_model import LinearRegression\n",
    "# Because we want to use regression on the data set we will use the science kit linear_model and import LinearRegression.\n",
    "\n",
    "from sklearn import metrics\n",
    "# We might want to see how well variables correlate with eachother, we will use the the metrics library as well.\n"
   ]
  },
  {
   "cell_type": "code",
   "execution_count": 3,
   "metadata": {},
   "outputs": [
    {
     "output_type": "execute_result",
     "data": {
      "text/plain": "['Winner',\n 'title_bout',\n 'no_of_rounds',\n 'B_current_lose_streak',\n 'B_current_win_streak',\n 'B_draw',\n 'B_avg_BODY_att',\n 'B_avg_BODY_landed',\n 'B_avg_CLINCH_att',\n 'B_avg_CLINCH_landed',\n 'B_avg_DISTANCE_att',\n 'B_avg_DISTANCE_landed',\n 'B_avg_GROUND_att',\n 'B_avg_GROUND_landed',\n 'B_avg_HEAD_att',\n 'B_avg_HEAD_landed',\n 'B_avg_KD',\n 'B_avg_LEG_att',\n 'B_avg_LEG_landed',\n 'B_avg_PASS',\n 'B_avg_REV',\n 'B_avg_SIG_STR_att',\n 'B_avg_SIG_STR_landed',\n 'B_avg_SIG_STR_pct',\n 'B_avg_SUB_ATT',\n 'B_avg_TD_att',\n 'B_avg_TD_landed',\n 'B_avg_TD_pct',\n 'B_avg_TOTAL_STR_att',\n 'B_avg_TOTAL_STR_landed',\n 'B_longest_win_streak',\n 'B_losses',\n 'B_avg_opp_BODY_att',\n 'B_avg_opp_BODY_landed',\n 'B_avg_opp_CLINCH_att',\n 'B_avg_opp_CLINCH_landed',\n 'B_avg_opp_DISTANCE_att',\n 'B_avg_opp_DISTANCE_landed',\n 'B_avg_opp_GROUND_att',\n 'B_avg_opp_GROUND_landed',\n 'B_avg_opp_HEAD_att',\n 'B_avg_opp_HEAD_landed',\n 'B_avg_opp_KD',\n 'B_avg_opp_LEG_att',\n 'B_avg_opp_LEG_landed',\n 'B_avg_opp_PASS',\n 'B_avg_opp_REV',\n 'B_avg_opp_SIG_STR_att',\n 'B_avg_opp_SIG_STR_landed',\n 'B_avg_opp_SIG_STR_pct',\n 'B_avg_opp_SUB_ATT',\n 'B_avg_opp_TD_att',\n 'B_avg_opp_TD_landed',\n 'B_avg_opp_TD_pct',\n 'B_avg_opp_TOTAL_STR_att',\n 'B_avg_opp_TOTAL_STR_landed',\n 'B_total_rounds_fought',\n 'B_total_time_fought(seconds)',\n 'B_total_title_bouts',\n 'B_win_by_Decision_Majority',\n 'B_win_by_Decision_Split',\n 'B_win_by_Decision_Unanimous',\n 'B_win_by_KO/TKO',\n 'B_win_by_Submission',\n 'B_win_by_TKO_Doctor_Stoppage',\n 'B_wins',\n 'B_Height_cms',\n 'B_Reach_cms',\n 'B_Weight_lbs',\n 'R_current_lose_streak',\n 'R_current_win_streak',\n 'R_draw',\n 'R_avg_BODY_att',\n 'R_avg_BODY_landed',\n 'R_avg_CLINCH_att',\n 'R_avg_CLINCH_landed',\n 'R_avg_DISTANCE_att',\n 'R_avg_DISTANCE_landed',\n 'R_avg_GROUND_att',\n 'R_avg_GROUND_landed',\n 'R_avg_HEAD_att',\n 'R_avg_HEAD_landed',\n 'R_avg_KD',\n 'R_avg_LEG_att',\n 'R_avg_LEG_landed',\n 'R_avg_PASS',\n 'R_avg_REV',\n 'R_avg_SIG_STR_att',\n 'R_avg_SIG_STR_landed',\n 'R_avg_SIG_STR_pct',\n 'R_avg_SUB_ATT',\n 'R_avg_TD_att',\n 'R_avg_TD_landed',\n 'R_avg_TD_pct',\n 'R_avg_TOTAL_STR_att',\n 'R_avg_TOTAL_STR_landed',\n 'R_longest_win_streak',\n 'R_losses',\n 'R_avg_opp_BODY_att',\n 'R_avg_opp_BODY_landed',\n 'R_avg_opp_CLINCH_att',\n 'R_avg_opp_CLINCH_landed',\n 'R_avg_opp_DISTANCE_att',\n 'R_avg_opp_DISTANCE_landed',\n 'R_avg_opp_GROUND_att',\n 'R_avg_opp_GROUND_landed',\n 'R_avg_opp_HEAD_att',\n 'R_avg_opp_HEAD_landed',\n 'R_avg_opp_KD',\n 'R_avg_opp_LEG_att',\n 'R_avg_opp_LEG_landed',\n 'R_avg_opp_PASS',\n 'R_avg_opp_REV',\n 'R_avg_opp_SIG_STR_att',\n 'R_avg_opp_SIG_STR_landed',\n 'R_avg_opp_SIG_STR_pct',\n 'R_avg_opp_SUB_ATT',\n 'R_avg_opp_TD_att',\n 'R_avg_opp_TD_landed',\n 'R_avg_opp_TD_pct',\n 'R_avg_opp_TOTAL_STR_att',\n 'R_avg_opp_TOTAL_STR_landed',\n 'R_total_rounds_fought',\n 'R_total_time_fought(seconds)',\n 'R_total_title_bouts',\n 'R_win_by_Decision_Majority',\n 'R_win_by_Decision_Split',\n 'R_win_by_Decision_Unanimous',\n 'R_win_by_KO/TKO',\n 'R_win_by_Submission',\n 'R_win_by_TKO_Doctor_Stoppage',\n 'R_wins',\n 'R_Height_cms',\n 'R_Reach_cms',\n 'R_Weight_lbs',\n 'B_age',\n 'R_age',\n 'weight_class_Bantamweight',\n 'weight_class_Catch Weight',\n 'weight_class_Featherweight',\n 'weight_class_Flyweight',\n 'weight_class_Heavyweight',\n 'weight_class_Light Heavyweight',\n 'weight_class_Lightweight',\n 'weight_class_Middleweight',\n 'weight_class_Open Weight',\n 'weight_class_Welterweight',\n \"weight_class_Women's Bantamweight\",\n \"weight_class_Women's Featherweight\",\n \"weight_class_Women's Flyweight\",\n \"weight_class_Women's Strawweight\",\n 'B_Stance_Open Stance',\n 'B_Stance_Orthodox',\n 'B_Stance_Sideways',\n 'B_Stance_Southpaw',\n 'B_Stance_Switch',\n 'R_Stance_Open Stance',\n 'R_Stance_Orthodox',\n 'R_Stance_Southpaw',\n 'R_Stance_Switch']"
     },
     "metadata": {},
     "execution_count": 3
    }
   ],
   "source": [
    "df = pd.read_csv(\"data/preprocessed_data.csv\")\n",
    "df.columns.tolist()"
   ]
  },
  {
   "cell_type": "code",
   "execution_count": 4,
   "metadata": {},
   "outputs": [
    {
     "output_type": "stream",
     "name": "stdout",
     "text": "b0: [-0.08531672]\nb1: [[0.36629796]]\nThe determination coefficient is: 0.8864090479926107\n"
    }
   ],
   "source": [
    "# We will start with a simple linear regression. We will predict `B_avg_DISTANCE_landed` by avg by `B_avg_DISTANCE_att`.\n",
    "# This way we can see if or what impact the B_avg_DISTANCE_landed has on the B_win_by_KO/TKO.\n",
    "\n",
    "# Independent variable x\n",
    "x = df[\"B_avg_DISTANCE_att\"].to_numpy().reshape((-1, 1))\n",
    "\n",
    "# Dependent variable y\n",
    "y = df[\"B_avg_DISTANCE_landed\"].to_numpy().reshape((-1, 1))\n",
    "\n",
    "model = LinearRegression().fit(x, y)\n",
    "\n",
    "y_predict = model.predict(x)\n",
    "\n",
    "print(f\"b0: {model.intercept_}\")\n",
    "print(f\"b1: {model.coef_}\")\n",
    "# print(f\"y_predict: {y_predict}\")\n",
    "\n",
    "det = metrics.r2_score(y, y_predict)\n",
    "print(f\"The determination coefficient is: {det}\")"
   ]
  },
  {
   "cell_type": "code",
   "execution_count": 5,
   "metadata": {},
   "outputs": [
    {
     "output_type": "execute_result",
     "data": {
      "text/plain": "<class 'statsmodels.iolib.summary.Summary'>\n\"\"\"\n                            OLS Regression Results                            \n==============================================================================\nDep. Variable:                      y   R-squared:                       0.886\nModel:                            OLS   Adj. R-squared:                  0.886\nMethod:                 Least Squares   F-statistic:                 2.801e+04\nDate:                Sun, 07 Jun 2020   Prob (F-statistic):               0.00\nTime:                        17:36:55   Log-Likelihood:                -11155.\nNo. Observations:                3592   AIC:                         2.231e+04\nDf Residuals:                    3590   BIC:                         2.233e+04\nDf Model:                           1                                         \nCovariance Type:            nonrobust                                         \n==============================================================================\n                 coef    std err          t      P>|t|      [0.025      0.975]\n------------------------------------------------------------------------------\nconst         -0.0853      0.149     -0.575      0.566      -0.376       0.206\nx1             0.3663      0.002    167.376      0.000       0.362       0.371\n==============================================================================\nOmnibus:                      686.963   Durbin-Watson:                   1.980\nProb(Omnibus):                  0.000   Jarque-Bera (JB):             7460.474\nSkew:                           0.585   Prob(JB):                         0.00\nKurtosis:                       9.963   Cond. No.                         112.\n==============================================================================\n\nWarnings:\n[1] Standard Errors assume that the covariance matrix of the errors is correctly specified.\n\"\"\"",
      "text/html": "<table class=\"simpletable\">\n<caption>OLS Regression Results</caption>\n<tr>\n  <th>Dep. Variable:</th>            <td>y</td>        <th>  R-squared:         </th> <td>   0.886</td> \n</tr>\n<tr>\n  <th>Model:</th>                   <td>OLS</td>       <th>  Adj. R-squared:    </th> <td>   0.886</td> \n</tr>\n<tr>\n  <th>Method:</th>             <td>Least Squares</td>  <th>  F-statistic:       </th> <td>2.801e+04</td>\n</tr>\n<tr>\n  <th>Date:</th>             <td>Sun, 07 Jun 2020</td> <th>  Prob (F-statistic):</th>  <td>  0.00</td>  \n</tr>\n<tr>\n  <th>Time:</th>                 <td>17:36:55</td>     <th>  Log-Likelihood:    </th> <td> -11155.</td> \n</tr>\n<tr>\n  <th>No. Observations:</th>      <td>  3592</td>      <th>  AIC:               </th> <td>2.231e+04</td>\n</tr>\n<tr>\n  <th>Df Residuals:</th>          <td>  3590</td>      <th>  BIC:               </th> <td>2.233e+04</td>\n</tr>\n<tr>\n  <th>Df Model:</th>              <td>     1</td>      <th>                     </th>     <td> </td>    \n</tr>\n<tr>\n  <th>Covariance Type:</th>      <td>nonrobust</td>    <th>                     </th>     <td> </td>    \n</tr>\n</table>\n<table class=\"simpletable\">\n<tr>\n    <td></td>       <th>coef</th>     <th>std err</th>      <th>t</th>      <th>P>|t|</th>  <th>[0.025</th>    <th>0.975]</th>  \n</tr>\n<tr>\n  <th>const</th> <td>   -0.0853</td> <td>    0.149</td> <td>   -0.575</td> <td> 0.566</td> <td>   -0.376</td> <td>    0.206</td>\n</tr>\n<tr>\n  <th>x1</th>    <td>    0.3663</td> <td>    0.002</td> <td>  167.376</td> <td> 0.000</td> <td>    0.362</td> <td>    0.371</td>\n</tr>\n</table>\n<table class=\"simpletable\">\n<tr>\n  <th>Omnibus:</th>       <td>686.963</td> <th>  Durbin-Watson:     </th> <td>   1.980</td>\n</tr>\n<tr>\n  <th>Prob(Omnibus):</th> <td> 0.000</td>  <th>  Jarque-Bera (JB):  </th> <td>7460.474</td>\n</tr>\n<tr>\n  <th>Skew:</th>          <td> 0.585</td>  <th>  Prob(JB):          </th> <td>    0.00</td>\n</tr>\n<tr>\n  <th>Kurtosis:</th>      <td> 9.963</td>  <th>  Cond. No.          </th> <td>    112.</td>\n</tr>\n</table><br/><br/>Warnings:<br/>[1] Standard Errors assume that the covariance matrix of the errors is correctly specified."
     },
     "metadata": {},
     "execution_count": 5
    }
   ],
   "source": [
    "# Another way to do this is using the statmodels api\n",
    "x = sm.add_constant(x)\n",
    "model = sm.OLS(y, x)\n",
    "results = model.fit()\n",
    "results.summary()\n",
    "\n",
    "# We can observe that the r-sqared with both methods is about 0.886."
   ]
  },
  {
   "cell_type": "code",
   "execution_count": 6,
   "metadata": {},
   "outputs": [
    {
     "output_type": "execute_result",
     "data": {
      "text/plain": "<class 'statsmodels.iolib.summary.Summary'>\n\"\"\"\n                            OLS Regression Results                            \n==============================================================================\nDep. Variable:                      y   R-squared:                       0.073\nModel:                            OLS   Adj. R-squared:                  0.063\nMethod:                 Least Squares   F-statistic:                     7.328\nDate:                Sun, 07 Jun 2020   Prob (F-statistic):           1.20e-36\nTime:                        17:36:55   Log-Likelihood:                -2270.8\nNo. Observations:                3592   AIC:                             4620.\nDf Residuals:                    3553   BIC:                             4861.\nDf Model:                          38                                         \nCovariance Type:            nonrobust                                         \n==========================================================================================\n                             coef    std err          t      P>|t|      [0.025      0.975]\n------------------------------------------------------------------------------------------\nconst                      0.6324      0.063     10.028      0.000       0.509       0.756\nB_avg_BODY_att            -0.0018      0.004     -0.456      0.648      -0.010       0.006\nB_avg_BODY_landed         -0.0030      0.005     -0.582      0.560      -0.013       0.007\nB_avg_CLINCH_att           0.0034      0.003      1.000      0.318      -0.003       0.010\nB_avg_CLINCH_landed       -0.0023      0.005     -0.472      0.637      -0.012       0.007\nB_avg_DISTANCE_att        -0.0032      0.002     -1.768      0.077      -0.007       0.000\nB_avg_DISTANCE_landed      0.0035      0.003      1.288      0.198      -0.002       0.009\nB_avg_GROUND_att           0.0014      0.003      0.436      0.663      -0.005       0.008\nB_avg_GROUND_landed       -0.0062      0.005     -1.306      0.191      -0.015       0.003\nB_avg_HEAD_att             0.0061      0.002      2.531      0.011       0.001       0.011\nB_avg_HEAD_landed         -0.0086      0.003     -2.529      0.011      -0.015      -0.002\nB_avg_LEG_att             -0.0027      0.005     -0.508      0.611      -0.013       0.008\nB_avg_LEG_landed           0.0067      0.007      0.999      0.318      -0.006       0.020\nB_avg_PASS                 0.0003      0.008      0.043      0.965      -0.015       0.016\nB_avg_REV                  0.0146      0.026      0.571      0.568      -0.036       0.065\nB_avg_SIG_STR_att          0.0016      0.003      0.543      0.587      -0.004       0.007\nB_avg_SIG_STR_landed      -0.0049      0.004     -1.369      0.171      -0.012       0.002\nB_avg_SIG_STR_pct          0.0306      0.085      0.361      0.718      -0.136       0.197\nB_avg_SUB_ATT              0.0004      0.012      0.031      0.975      -0.024       0.024\nB_avg_TD_att              -0.0081      0.006     -1.471      0.141      -0.019       0.003\nB_avg_TD_landed           -0.0291      0.015     -1.962      0.050      -0.058   -2.74e-05\nB_avg_TD_pct               0.1134      0.042      2.679      0.007       0.030       0.196\nB_avg_TOTAL_STR_att       -0.0046      0.004     -1.274      0.203      -0.012       0.002\nB_avg_TOTAL_STR_landed     0.0072      0.004      1.769      0.077      -0.001       0.015\nR_avg_BODY_att            -0.0054      0.004     -1.199      0.231      -0.014       0.003\nR_avg_BODY_landed          0.0038      0.006      0.628      0.530      -0.008       0.015\nR_avg_CLINCH_att           0.0042      0.004      1.055      0.291      -0.004       0.012\nR_avg_CLINCH_landed       -0.0040      0.006     -0.711      0.477      -0.015       0.007\nR_avg_DISTANCE_att        -0.0030      0.002     -1.520      0.129      -0.007       0.001\nR_avg_DISTANCE_landed      0.0047      0.003      1.586      0.113      -0.001       0.010\nR_avg_GROUND_att           0.0123      0.004      3.473      0.001       0.005       0.019\nR_avg_GROUND_landed       -0.0150      0.005     -2.874      0.004      -0.025      -0.005\nR_avg_HEAD_att             0.0040      0.002      1.729      0.084      -0.001       0.008\nR_avg_HEAD_landed         -0.0034      0.003     -1.031      0.303      -0.010       0.003\nR_avg_LEG_att              0.0148      0.005      2.842      0.005       0.005       0.025\nR_avg_LEG_landed          -0.0146      0.007     -2.184      0.029      -0.028      -0.001\nR_avg_PASS                 0.0070      0.008      0.874      0.382      -0.009       0.023\nR_avg_REV                 -0.0739      0.030     -2.427      0.015      -0.134      -0.014\nR_avg_SIG_STR_att          0.0134      0.003      4.197      0.000       0.007       0.020\nR_avg_SIG_STR_landed      -0.0143      0.004     -3.698      0.000      -0.022      -0.007\nR_avg_SIG_STR_pct          0.1302      0.092      1.413      0.158      -0.050       0.311\nR_avg_SUB_ATT              0.0260      0.014      1.870      0.062      -0.001       0.053\nR_avg_TD_att              -0.0010      0.005     -0.188      0.851      -0.012       0.010\nR_avg_TD_landed            0.0170      0.015      1.114      0.266      -0.013       0.047\nR_avg_TD_pct               0.0871      0.046      1.880      0.060      -0.004       0.178\nR_avg_TOTAL_STR_att       -0.0156      0.004     -3.741      0.000      -0.024      -0.007\nR_avg_TOTAL_STR_landed     0.0158      0.005      3.450      0.001       0.007       0.025\n==============================================================================\nOmnibus:                    95774.268   Durbin-Watson:                   1.844\nProb(Omnibus):                  0.000   Jarque-Bera (JB):              479.118\nSkew:                          -0.586   Prob(JB):                    9.14e-105\nKurtosis:                       1.648   Cond. No.                     1.09e+16\n==============================================================================\n\nWarnings:\n[1] Standard Errors assume that the covariance matrix of the errors is correctly specified.\n[2] The smallest eigenvalue is 1.8e-24. This might indicate that there are\nstrong multicollinearity problems or that the design matrix is singular.\n\"\"\"",
      "text/html": "<table class=\"simpletable\">\n<caption>OLS Regression Results</caption>\n<tr>\n  <th>Dep. Variable:</th>            <td>y</td>        <th>  R-squared:         </th> <td>   0.073</td>\n</tr>\n<tr>\n  <th>Model:</th>                   <td>OLS</td>       <th>  Adj. R-squared:    </th> <td>   0.063</td>\n</tr>\n<tr>\n  <th>Method:</th>             <td>Least Squares</td>  <th>  F-statistic:       </th> <td>   7.328</td>\n</tr>\n<tr>\n  <th>Date:</th>             <td>Sun, 07 Jun 2020</td> <th>  Prob (F-statistic):</th> <td>1.20e-36</td>\n</tr>\n<tr>\n  <th>Time:</th>                 <td>17:36:55</td>     <th>  Log-Likelihood:    </th> <td> -2270.8</td>\n</tr>\n<tr>\n  <th>No. Observations:</th>      <td>  3592</td>      <th>  AIC:               </th> <td>   4620.</td>\n</tr>\n<tr>\n  <th>Df Residuals:</th>          <td>  3553</td>      <th>  BIC:               </th> <td>   4861.</td>\n</tr>\n<tr>\n  <th>Df Model:</th>              <td>    38</td>      <th>                     </th>     <td> </td>   \n</tr>\n<tr>\n  <th>Covariance Type:</th>      <td>nonrobust</td>    <th>                     </th>     <td> </td>   \n</tr>\n</table>\n<table class=\"simpletable\">\n<tr>\n             <td></td>               <th>coef</th>     <th>std err</th>      <th>t</th>      <th>P>|t|</th>  <th>[0.025</th>    <th>0.975]</th>  \n</tr>\n<tr>\n  <th>const</th>                  <td>    0.6324</td> <td>    0.063</td> <td>   10.028</td> <td> 0.000</td> <td>    0.509</td> <td>    0.756</td>\n</tr>\n<tr>\n  <th>B_avg_BODY_att</th>         <td>   -0.0018</td> <td>    0.004</td> <td>   -0.456</td> <td> 0.648</td> <td>   -0.010</td> <td>    0.006</td>\n</tr>\n<tr>\n  <th>B_avg_BODY_landed</th>      <td>   -0.0030</td> <td>    0.005</td> <td>   -0.582</td> <td> 0.560</td> <td>   -0.013</td> <td>    0.007</td>\n</tr>\n<tr>\n  <th>B_avg_CLINCH_att</th>       <td>    0.0034</td> <td>    0.003</td> <td>    1.000</td> <td> 0.318</td> <td>   -0.003</td> <td>    0.010</td>\n</tr>\n<tr>\n  <th>B_avg_CLINCH_landed</th>    <td>   -0.0023</td> <td>    0.005</td> <td>   -0.472</td> <td> 0.637</td> <td>   -0.012</td> <td>    0.007</td>\n</tr>\n<tr>\n  <th>B_avg_DISTANCE_att</th>     <td>   -0.0032</td> <td>    0.002</td> <td>   -1.768</td> <td> 0.077</td> <td>   -0.007</td> <td>    0.000</td>\n</tr>\n<tr>\n  <th>B_avg_DISTANCE_landed</th>  <td>    0.0035</td> <td>    0.003</td> <td>    1.288</td> <td> 0.198</td> <td>   -0.002</td> <td>    0.009</td>\n</tr>\n<tr>\n  <th>B_avg_GROUND_att</th>       <td>    0.0014</td> <td>    0.003</td> <td>    0.436</td> <td> 0.663</td> <td>   -0.005</td> <td>    0.008</td>\n</tr>\n<tr>\n  <th>B_avg_GROUND_landed</th>    <td>   -0.0062</td> <td>    0.005</td> <td>   -1.306</td> <td> 0.191</td> <td>   -0.015</td> <td>    0.003</td>\n</tr>\n<tr>\n  <th>B_avg_HEAD_att</th>         <td>    0.0061</td> <td>    0.002</td> <td>    2.531</td> <td> 0.011</td> <td>    0.001</td> <td>    0.011</td>\n</tr>\n<tr>\n  <th>B_avg_HEAD_landed</th>      <td>   -0.0086</td> <td>    0.003</td> <td>   -2.529</td> <td> 0.011</td> <td>   -0.015</td> <td>   -0.002</td>\n</tr>\n<tr>\n  <th>B_avg_LEG_att</th>          <td>   -0.0027</td> <td>    0.005</td> <td>   -0.508</td> <td> 0.611</td> <td>   -0.013</td> <td>    0.008</td>\n</tr>\n<tr>\n  <th>B_avg_LEG_landed</th>       <td>    0.0067</td> <td>    0.007</td> <td>    0.999</td> <td> 0.318</td> <td>   -0.006</td> <td>    0.020</td>\n</tr>\n<tr>\n  <th>B_avg_PASS</th>             <td>    0.0003</td> <td>    0.008</td> <td>    0.043</td> <td> 0.965</td> <td>   -0.015</td> <td>    0.016</td>\n</tr>\n<tr>\n  <th>B_avg_REV</th>              <td>    0.0146</td> <td>    0.026</td> <td>    0.571</td> <td> 0.568</td> <td>   -0.036</td> <td>    0.065</td>\n</tr>\n<tr>\n  <th>B_avg_SIG_STR_att</th>      <td>    0.0016</td> <td>    0.003</td> <td>    0.543</td> <td> 0.587</td> <td>   -0.004</td> <td>    0.007</td>\n</tr>\n<tr>\n  <th>B_avg_SIG_STR_landed</th>   <td>   -0.0049</td> <td>    0.004</td> <td>   -1.369</td> <td> 0.171</td> <td>   -0.012</td> <td>    0.002</td>\n</tr>\n<tr>\n  <th>B_avg_SIG_STR_pct</th>      <td>    0.0306</td> <td>    0.085</td> <td>    0.361</td> <td> 0.718</td> <td>   -0.136</td> <td>    0.197</td>\n</tr>\n<tr>\n  <th>B_avg_SUB_ATT</th>          <td>    0.0004</td> <td>    0.012</td> <td>    0.031</td> <td> 0.975</td> <td>   -0.024</td> <td>    0.024</td>\n</tr>\n<tr>\n  <th>B_avg_TD_att</th>           <td>   -0.0081</td> <td>    0.006</td> <td>   -1.471</td> <td> 0.141</td> <td>   -0.019</td> <td>    0.003</td>\n</tr>\n<tr>\n  <th>B_avg_TD_landed</th>        <td>   -0.0291</td> <td>    0.015</td> <td>   -1.962</td> <td> 0.050</td> <td>   -0.058</td> <td>-2.74e-05</td>\n</tr>\n<tr>\n  <th>B_avg_TD_pct</th>           <td>    0.1134</td> <td>    0.042</td> <td>    2.679</td> <td> 0.007</td> <td>    0.030</td> <td>    0.196</td>\n</tr>\n<tr>\n  <th>B_avg_TOTAL_STR_att</th>    <td>   -0.0046</td> <td>    0.004</td> <td>   -1.274</td> <td> 0.203</td> <td>   -0.012</td> <td>    0.002</td>\n</tr>\n<tr>\n  <th>B_avg_TOTAL_STR_landed</th> <td>    0.0072</td> <td>    0.004</td> <td>    1.769</td> <td> 0.077</td> <td>   -0.001</td> <td>    0.015</td>\n</tr>\n<tr>\n  <th>R_avg_BODY_att</th>         <td>   -0.0054</td> <td>    0.004</td> <td>   -1.199</td> <td> 0.231</td> <td>   -0.014</td> <td>    0.003</td>\n</tr>\n<tr>\n  <th>R_avg_BODY_landed</th>      <td>    0.0038</td> <td>    0.006</td> <td>    0.628</td> <td> 0.530</td> <td>   -0.008</td> <td>    0.015</td>\n</tr>\n<tr>\n  <th>R_avg_CLINCH_att</th>       <td>    0.0042</td> <td>    0.004</td> <td>    1.055</td> <td> 0.291</td> <td>   -0.004</td> <td>    0.012</td>\n</tr>\n<tr>\n  <th>R_avg_CLINCH_landed</th>    <td>   -0.0040</td> <td>    0.006</td> <td>   -0.711</td> <td> 0.477</td> <td>   -0.015</td> <td>    0.007</td>\n</tr>\n<tr>\n  <th>R_avg_DISTANCE_att</th>     <td>   -0.0030</td> <td>    0.002</td> <td>   -1.520</td> <td> 0.129</td> <td>   -0.007</td> <td>    0.001</td>\n</tr>\n<tr>\n  <th>R_avg_DISTANCE_landed</th>  <td>    0.0047</td> <td>    0.003</td> <td>    1.586</td> <td> 0.113</td> <td>   -0.001</td> <td>    0.010</td>\n</tr>\n<tr>\n  <th>R_avg_GROUND_att</th>       <td>    0.0123</td> <td>    0.004</td> <td>    3.473</td> <td> 0.001</td> <td>    0.005</td> <td>    0.019</td>\n</tr>\n<tr>\n  <th>R_avg_GROUND_landed</th>    <td>   -0.0150</td> <td>    0.005</td> <td>   -2.874</td> <td> 0.004</td> <td>   -0.025</td> <td>   -0.005</td>\n</tr>\n<tr>\n  <th>R_avg_HEAD_att</th>         <td>    0.0040</td> <td>    0.002</td> <td>    1.729</td> <td> 0.084</td> <td>   -0.001</td> <td>    0.008</td>\n</tr>\n<tr>\n  <th>R_avg_HEAD_landed</th>      <td>   -0.0034</td> <td>    0.003</td> <td>   -1.031</td> <td> 0.303</td> <td>   -0.010</td> <td>    0.003</td>\n</tr>\n<tr>\n  <th>R_avg_LEG_att</th>          <td>    0.0148</td> <td>    0.005</td> <td>    2.842</td> <td> 0.005</td> <td>    0.005</td> <td>    0.025</td>\n</tr>\n<tr>\n  <th>R_avg_LEG_landed</th>       <td>   -0.0146</td> <td>    0.007</td> <td>   -2.184</td> <td> 0.029</td> <td>   -0.028</td> <td>   -0.001</td>\n</tr>\n<tr>\n  <th>R_avg_PASS</th>             <td>    0.0070</td> <td>    0.008</td> <td>    0.874</td> <td> 0.382</td> <td>   -0.009</td> <td>    0.023</td>\n</tr>\n<tr>\n  <th>R_avg_REV</th>              <td>   -0.0739</td> <td>    0.030</td> <td>   -2.427</td> <td> 0.015</td> <td>   -0.134</td> <td>   -0.014</td>\n</tr>\n<tr>\n  <th>R_avg_SIG_STR_att</th>      <td>    0.0134</td> <td>    0.003</td> <td>    4.197</td> <td> 0.000</td> <td>    0.007</td> <td>    0.020</td>\n</tr>\n<tr>\n  <th>R_avg_SIG_STR_landed</th>   <td>   -0.0143</td> <td>    0.004</td> <td>   -3.698</td> <td> 0.000</td> <td>   -0.022</td> <td>   -0.007</td>\n</tr>\n<tr>\n  <th>R_avg_SIG_STR_pct</th>      <td>    0.1302</td> <td>    0.092</td> <td>    1.413</td> <td> 0.158</td> <td>   -0.050</td> <td>    0.311</td>\n</tr>\n<tr>\n  <th>R_avg_SUB_ATT</th>          <td>    0.0260</td> <td>    0.014</td> <td>    1.870</td> <td> 0.062</td> <td>   -0.001</td> <td>    0.053</td>\n</tr>\n<tr>\n  <th>R_avg_TD_att</th>           <td>   -0.0010</td> <td>    0.005</td> <td>   -0.188</td> <td> 0.851</td> <td>   -0.012</td> <td>    0.010</td>\n</tr>\n<tr>\n  <th>R_avg_TD_landed</th>        <td>    0.0170</td> <td>    0.015</td> <td>    1.114</td> <td> 0.266</td> <td>   -0.013</td> <td>    0.047</td>\n</tr>\n<tr>\n  <th>R_avg_TD_pct</th>           <td>    0.0871</td> <td>    0.046</td> <td>    1.880</td> <td> 0.060</td> <td>   -0.004</td> <td>    0.178</td>\n</tr>\n<tr>\n  <th>R_avg_TOTAL_STR_att</th>    <td>   -0.0156</td> <td>    0.004</td> <td>   -3.741</td> <td> 0.000</td> <td>   -0.024</td> <td>   -0.007</td>\n</tr>\n<tr>\n  <th>R_avg_TOTAL_STR_landed</th> <td>    0.0158</td> <td>    0.005</td> <td>    3.450</td> <td> 0.001</td> <td>    0.007</td> <td>    0.025</td>\n</tr>\n</table>\n<table class=\"simpletable\">\n<tr>\n  <th>Omnibus:</th>       <td>95774.268</td> <th>  Durbin-Watson:     </th> <td>   1.844</td> \n</tr>\n<tr>\n  <th>Prob(Omnibus):</th>  <td> 0.000</td>   <th>  Jarque-Bera (JB):  </th> <td> 479.118</td> \n</tr>\n<tr>\n  <th>Skew:</th>           <td>-0.586</td>   <th>  Prob(JB):          </th> <td>9.14e-105</td>\n</tr>\n<tr>\n  <th>Kurtosis:</th>       <td> 1.648</td>   <th>  Cond. No.          </th> <td>1.09e+16</td> \n</tr>\n</table><br/><br/>Warnings:<br/>[1] Standard Errors assume that the covariance matrix of the errors is correctly specified.<br/>[2] The smallest eigenvalue is 1.8e-24. This might indicate that there are<br/>strong multicollinearity problems or that the design matrix is singular."
     },
     "metadata": {},
     "execution_count": 6
    }
   ],
   "source": [
    "# Now let's do the basic multivariate linear regression.\n",
    "# We want to predict if either red or blue wins based on the fight data of that particular fight. This means we will use:\n",
    "# Winner as red = 1, and blue = 0\n",
    "# We will use the statsmodels api becuase it gives both the r^2 and the adjusted r^2\n",
    "\n",
    "def set_y(outcomes):\n",
    "    y = []\n",
    "\n",
    "    for i in outcomes:\n",
    "        if i == \"Red\":\n",
    "            y.append(1)\n",
    "        elif i == \"Blue\":\n",
    "            y.append(0)\n",
    "        else:\n",
    "            raise Exception(f\"Can't parse value {i}\")\n",
    "\n",
    "    return y\n",
    "    \n",
    "\n",
    "outcomes = df[\"Winner\"].to_numpy().reshape((-1, 1))\n",
    "\n",
    "y = set_y(outcomes)\n",
    "\n",
    "x = df[[\"B_avg_BODY_att\",\n",
    "\"B_avg_BODY_landed\",\n",
    "\"B_avg_CLINCH_att\",\n",
    "\"B_avg_CLINCH_landed\",\n",
    "\"B_avg_DISTANCE_att\",\n",
    "\"B_avg_DISTANCE_landed\", \n",
    "\"B_avg_GROUND_att\",\n",
    "\"B_avg_GROUND_landed\",\n",
    "\"B_avg_HEAD_att\",\n",
    "\"B_avg_HEAD_landed\",\n",
    "\"B_avg_LEG_att\",\n",
    "\"B_avg_LEG_landed\",\n",
    "\"B_avg_PASS\",\n",
    "\"B_avg_REV\", \n",
    "\"B_avg_SIG_STR_att\",\n",
    "\"B_avg_SIG_STR_landed\", \n",
    "\"B_avg_SIG_STR_pct\",\n",
    "\"B_avg_SUB_ATT\",\n",
    "\"B_avg_TD_att\",\n",
    "\"B_avg_TD_landed\",\n",
    "\"B_avg_TD_pct\", \n",
    "\"B_avg_TOTAL_STR_att\",\n",
    "\"B_avg_TOTAL_STR_landed\", \n",
    "\"R_avg_BODY_att\",\n",
    "\"R_avg_BODY_landed\",\n",
    "\"R_avg_CLINCH_att\",\n",
    "\"R_avg_CLINCH_landed\",\n",
    "\"R_avg_DISTANCE_att\",\n",
    "\"R_avg_DISTANCE_landed\", \n",
    "\"R_avg_GROUND_att\",\n",
    "\"R_avg_GROUND_landed\",\n",
    "\"R_avg_HEAD_att\",\n",
    "\"R_avg_HEAD_landed\",\n",
    "\"R_avg_LEG_att\",\n",
    "\"R_avg_LEG_landed\",\n",
    "\"R_avg_PASS\",\n",
    "\"R_avg_REV\", \n",
    "\"R_avg_SIG_STR_att\",\n",
    "\"R_avg_SIG_STR_landed\", \n",
    "\"R_avg_SIG_STR_pct\",\n",
    "\"R_avg_SUB_ATT\",\n",
    "\"R_avg_TD_att\",\n",
    "\"R_avg_TD_landed\",\n",
    "\"R_avg_TD_pct\", \n",
    "\"R_avg_TOTAL_STR_att\",\n",
    "\"R_avg_TOTAL_STR_landed\"]]\n",
    "\n",
    "x = sm.add_constant(x)\n",
    "model = sm.OLS(y, x)\n",
    "res = model.fit()\n",
    "res.summary()\n",
    "\n",
    "# prediction = model.predict(x)\n",
    "# print(prediction)"
   ]
  },
  {
   "cell_type": "code",
   "execution_count": 7,
   "metadata": {},
   "outputs": [
    {
     "output_type": "stream",
     "name": "stdout",
     "text": "b0: 0.6324133523206238\nb1: [ 7.14465628e-17 -1.79520610e-03 -3.04255827e-03  3.41739701e-03\n -2.27970459e-03 -3.20844396e-03  3.54960973e-03  1.38659213e-03\n -6.17562943e-03  6.07811877e-03 -8.60053612e-03 -2.68736748e-03\n  6.73737010e-03  3.45136482e-04  1.46065395e-02  1.59554518e-03\n -4.90572429e-03  3.06055355e-02  3.75418442e-04 -8.10322784e-03\n -2.91202072e-02  1.13399794e-01 -4.62896712e-03  7.15138298e-03\n -5.36734656e-03  3.75649202e-03  4.15072182e-03 -3.95596644e-03\n -2.97542680e-03  4.66260970e-03  1.22536480e-02 -1.50075463e-02\n  3.96978615e-03 -3.42586173e-03  1.48265034e-02 -1.46315333e-02\n  7.04445450e-03 -7.39198234e-02  1.34289430e-02 -1.43009031e-02\n  1.30212874e-01  2.60470690e-02 -1.01451924e-03  1.69737035e-02\n  8.71176290e-02 -1.55521088e-02  1.58258546e-02]\ndet: 0.0726772006341736\n"
    }
   ],
   "source": [
    "# We can check the results using the sklearn library\n",
    "model = LinearRegression().fit(x, y)\n",
    "y_predict = model.predict(x)\n",
    "det = metrics.r2_score(y, y_predict)\n",
    "\n",
    "\n",
    "print(f\"b0: {model.intercept_}\")\n",
    "print(f\"b1: {model.coef_}\")\n",
    "print(f\"det: {det}\")"
   ]
  },
  {
   "cell_type": "code",
   "execution_count": null,
   "metadata": {},
   "outputs": [],
   "source": [
    "# Out statsmodels summary tells us that there may be colineatiry problems between some of the constants. We can use the variance inflation factor to determine which n of X correlate with eachother\n",
    "\n",
    "from statsmodels.stats.outliers_influence import variance_inflation_factor\n",
    "\n"
   ]
  },
  {
   "cell_type": "code",
   "execution_count": null,
   "metadata": {},
   "outputs": [],
   "source": [
    "# Because our independent variables are not yet scaled we might get wierd results. Lets see if scaling helps bring back the determination coefficient.\n"
   ]
  },
  {
   "cell_type": "code",
   "execution_count": null,
   "metadata": {},
   "outputs": [],
   "source": [
    "# We can also look for multicolinearity.\n",
    "# This allows us to see which independent variable has the most inpact on the prediction.\n"
   ]
  },
  {
   "cell_type": "code",
   "execution_count": null,
   "metadata": {},
   "outputs": [],
   "source": []
  }
 ],
 "metadata": {
  "language_info": {
   "codemirror_mode": {
    "name": "ipython",
    "version": 3
   },
   "file_extension": ".py",
   "mimetype": "text/x-python",
   "name": "python",
   "nbconvert_exporter": "python",
   "pygments_lexer": "ipython3",
   "version": "3.7.5-final"
  },
  "orig_nbformat": 2,
  "kernelspec": {
   "name": "python37564bit8153ed8c25bd45b7b4519484779c0773",
   "display_name": "Python 3.7.5 64-bit"
  }
 },
 "nbformat": 4,
 "nbformat_minor": 2
}